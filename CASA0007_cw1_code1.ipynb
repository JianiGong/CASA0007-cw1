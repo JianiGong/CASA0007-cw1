{
 "cells": [
  {
   "cell_type": "code",
   "execution_count": null,
   "id": "6383d848",
   "metadata": {},
   "outputs": [],
   "source": [
    "#summary data for "
   ]
  },
  {
   "cell_type": "code",
   "execution_count": 3,
   "id": "ea338a98",
   "metadata": {},
   "outputs": [],
   "source": [
    "import numpy as np\n",
    "import scipy.stats as sps\n",
    "import pandas as pd\n",
    "import matplotlib.pyplot as plt\n",
    "data_filename = 'condition_x.csv'"
   ]
  },
  {
   "cell_type": "code",
   "execution_count": 5,
   "id": "0a785b1f",
   "metadata": {},
   "outputs": [
    {
     "data": {
      "text/html": [
       "<div>\n",
       "<style scoped>\n",
       "    .dataframe tbody tr th:only-of-type {\n",
       "        vertical-align: middle;\n",
       "    }\n",
       "\n",
       "    .dataframe tbody tr th {\n",
       "        vertical-align: top;\n",
       "    }\n",
       "\n",
       "    .dataframe thead th {\n",
       "        text-align: right;\n",
       "    }\n",
       "</style>\n",
       "<table border=\"1\" class=\"dataframe\">\n",
       "  <thead>\n",
       "    <tr style=\"text-align: right;\">\n",
       "      <th></th>\n",
       "      <th>2008_ratio</th>\n",
       "      <th>2013_ratio</th>\n",
       "      <th>2018_ratio</th>\n",
       "    </tr>\n",
       "  </thead>\n",
       "  <tbody>\n",
       "    <tr>\n",
       "      <th>0</th>\n",
       "      <td>0.003434</td>\n",
       "      <td>0.003458</td>\n",
       "      <td>0.004197</td>\n",
       "    </tr>\n",
       "    <tr>\n",
       "      <th>1</th>\n",
       "      <td>0.001583</td>\n",
       "      <td>0.001726</td>\n",
       "      <td>0.002172</td>\n",
       "    </tr>\n",
       "    <tr>\n",
       "      <th>2</th>\n",
       "      <td>0.001588</td>\n",
       "      <td>0.001848</td>\n",
       "      <td>0.002044</td>\n",
       "    </tr>\n",
       "    <tr>\n",
       "      <th>3</th>\n",
       "      <td>0.002553</td>\n",
       "      <td>0.002434</td>\n",
       "      <td>0.002609</td>\n",
       "    </tr>\n",
       "    <tr>\n",
       "      <th>4</th>\n",
       "      <td>0.001966</td>\n",
       "      <td>0.001984</td>\n",
       "      <td>0.002153</td>\n",
       "    </tr>\n",
       "  </tbody>\n",
       "</table>\n",
       "</div>"
      ],
      "text/plain": [
       "   2008_ratio  2013_ratio  2018_ratio\n",
       "0    0.003434    0.003458    0.004197\n",
       "1    0.001583    0.001726    0.002172\n",
       "2    0.001588    0.001848    0.002044\n",
       "3    0.002553    0.002434    0.002609\n",
       "4    0.001966    0.001984    0.002153"
      ]
     },
     "execution_count": 5,
     "metadata": {},
     "output_type": "execute_result"
    }
   ],
   "source": [
    "#read in the data\n",
    "data = pd.read_csv('D:/CASA0007/cw1/coursework_1_data_2019.csv')[['2008_ratio','2013_ratio','2018_ratio']]\n",
    "#show the first few lines\n",
    "data.head()"
   ]
  },
  {
   "cell_type": "code",
   "execution_count": 6,
   "id": "dfe80111",
   "metadata": {},
   "outputs": [
    {
     "data": {
      "text/html": [
       "<div>\n",
       "<style scoped>\n",
       "    .dataframe tbody tr th:only-of-type {\n",
       "        vertical-align: middle;\n",
       "    }\n",
       "\n",
       "    .dataframe tbody tr th {\n",
       "        vertical-align: top;\n",
       "    }\n",
       "\n",
       "    .dataframe thead th {\n",
       "        text-align: right;\n",
       "    }\n",
       "</style>\n",
       "<table border=\"1\" class=\"dataframe\">\n",
       "  <thead>\n",
       "    <tr style=\"text-align: right;\">\n",
       "      <th></th>\n",
       "      <th>2008_ratio</th>\n",
       "      <th>2013_ratio</th>\n",
       "      <th>2018_ratio</th>\n",
       "    </tr>\n",
       "  </thead>\n",
       "  <tbody>\n",
       "    <tr>\n",
       "      <th>count</th>\n",
       "      <td>152.000000</td>\n",
       "      <td>152.000000</td>\n",
       "      <td>152.000000</td>\n",
       "    </tr>\n",
       "    <tr>\n",
       "      <th>mean</th>\n",
       "      <td>0.003097</td>\n",
       "      <td>0.003210</td>\n",
       "      <td>0.003447</td>\n",
       "    </tr>\n",
       "    <tr>\n",
       "      <th>std</th>\n",
       "      <td>0.001371</td>\n",
       "      <td>0.001391</td>\n",
       "      <td>0.001387</td>\n",
       "    </tr>\n",
       "    <tr>\n",
       "      <th>min</th>\n",
       "      <td>0.000740</td>\n",
       "      <td>0.000419</td>\n",
       "      <td>0.001014</td>\n",
       "    </tr>\n",
       "    <tr>\n",
       "      <th>25%</th>\n",
       "      <td>0.002148</td>\n",
       "      <td>0.002269</td>\n",
       "      <td>0.002535</td>\n",
       "    </tr>\n",
       "    <tr>\n",
       "      <th>50%</th>\n",
       "      <td>0.002915</td>\n",
       "      <td>0.002985</td>\n",
       "      <td>0.003182</td>\n",
       "    </tr>\n",
       "    <tr>\n",
       "      <th>75%</th>\n",
       "      <td>0.003650</td>\n",
       "      <td>0.003811</td>\n",
       "      <td>0.004067</td>\n",
       "    </tr>\n",
       "    <tr>\n",
       "      <th>max</th>\n",
       "      <td>0.008241</td>\n",
       "      <td>0.008496</td>\n",
       "      <td>0.008729</td>\n",
       "    </tr>\n",
       "  </tbody>\n",
       "</table>\n",
       "</div>"
      ],
      "text/plain": [
       "       2008_ratio  2013_ratio  2018_ratio\n",
       "count  152.000000  152.000000  152.000000\n",
       "mean     0.003097    0.003210    0.003447\n",
       "std      0.001371    0.001391    0.001387\n",
       "min      0.000740    0.000419    0.001014\n",
       "25%      0.002148    0.002269    0.002535\n",
       "50%      0.002915    0.002985    0.003182\n",
       "75%      0.003650    0.003811    0.004067\n",
       "max      0.008241    0.008496    0.008729"
      ]
     },
     "execution_count": 6,
     "metadata": {},
     "output_type": "execute_result"
    }
   ],
   "source": [
    "# Store each sample separately:\n",
    "data1 = data['2008_ratio']\n",
    "data2 = data['2013_ratio']\n",
    "data3 = data['2018_ratio']\n",
    "\n",
    "# Store some useful values\n",
    "\n",
    "min1 = data1.min()\n",
    "min2 = data2.min()\n",
    "min3 = data3.min()\n",
    "\n",
    "max1 = data1.max()\n",
    "max2 = data2.max()\n",
    "max3 = data3.max()\n",
    "\n",
    "mean1 = data1.mean()\n",
    "mean2 = data2.mean()\n",
    "mean3 = data3.mean()\n",
    "\n",
    "std1 = data1.std()\n",
    "std2 = data2.std()\n",
    "std3 = data3.std()\n",
    "\n",
    "n1 = len(data1)\n",
    "n2 = len(data2)\n",
    "n3 = len(data3)\n",
    "\n",
    "\n",
    "# And print some summary information:\n",
    "\n",
    "data.describe()"
   ]
  },
  {
   "cell_type": "code",
   "execution_count": 35,
   "id": "eaf17d64",
   "metadata": {},
   "outputs": [],
   "source": [
    "#plotting histogram\n",
    "output_filename1 = 'histogram_2008.png'\n",
    "output_filename2 = 'histogram_2013.png'\n",
    "output_filename3 = 'histogram_2018.png'"
   ]
  },
  {
   "cell_type": "code",
   "execution_count": 36,
   "id": "0aa06d9f",
   "metadata": {},
   "outputs": [],
   "source": [
    "figure_width, figure_height = 7,7"
   ]
  },
  {
   "cell_type": "code",
   "execution_count": 37,
   "id": "c4170fdb",
   "metadata": {},
   "outputs": [],
   "source": [
    "import matplotlib.pyplot as plt\n",
    "import numpy as np"
   ]
  },
  {
   "cell_type": "code",
   "execution_count": 38,
   "id": "f1cae151",
   "metadata": {},
   "outputs": [
    {
     "data": {
      "text/plain": [
       "<Figure size 504x504 with 0 Axes>"
      ]
     },
     "execution_count": 38,
     "metadata": {},
     "output_type": "execute_result"
    },
    {
     "data": {
      "text/plain": [
       "<Figure size 504x504 with 0 Axes>"
      ]
     },
     "metadata": {},
     "output_type": "display_data"
    }
   ],
   "source": [
    "plt.figure(figsize=(figure_width,figure_height))"
   ]
  },
  {
   "cell_type": "code",
   "execution_count": 46,
   "id": "cd8f73fa",
   "metadata": {},
   "outputs": [],
   "source": [
    "bin_info = list(np.arange(0.0003,0.009,0.0001))"
   ]
  },
  {
   "cell_type": "code",
   "execution_count": 47,
   "id": "85805dff",
   "metadata": {},
   "outputs": [
    {
     "data": {
      "image/png": "[encoded data removed]",
      "text/plain": [
       "<Figure size 432x288 with 1 Axes>"
      ]
     },
     "metadata": {
      "needs_background": "light"
     },
     "output_type": "display_data"
    }
   ],
   "source": [
    "# The next lines create and save the plot:\n",
    "plt.hist(data1,bins=bin_info)\n",
    "plt.savefig(output_filename1)"
   ]
  },
  {
   "cell_type": "code",
   "execution_count": 42,
   "id": "103e8c36",
   "metadata": {},
   "outputs": [
    {
     "data": {
      "image/png": "[encoded data removed]",
      "text/plain": [
       "<Figure size 432x288 with 1 Axes>"
      ]
     },
     "metadata": {
      "needs_background": "light"
     },
     "output_type": "display_data"
    }
   ],
   "source": [
    "plt.hist(data2,bins=bin_info)\n",
    "plt.savefig(output_filename2)"
   ]
  },
  {
   "cell_type": "code",
   "execution_count": 43,
   "id": "ec2bf6fe",
   "metadata": {},
   "outputs": [
    {
     "data": {
      "image/png": "[encoded data removed]",
      "text/plain": [
       "<Figure size 432x288 with 1 Axes>"
      ]
     },
     "metadata": {
      "needs_background": "light"
     },
     "output_type": "display_data"
    }
   ],
   "source": [
    "plt.hist(data3,bins=bin_info)\n",
    "plt.savefig(output_filename3)"
   ]
  },
  {
   "cell_type": "code",
   "execution_count": 48,
   "id": "e941a67e",
   "metadata": {},
   "outputs": [],
   "source": [
    "#hypothesis testing\n",
    "# H0: mean ratio in 2008 =  Mean ratio in 2018\n",
    "# H1: mean ratio in 2008 <  Mean ratio in 2018"
   ]
  },
  {
   "cell_type": "code",
   "execution_count": 50,
   "id": "2640c95d",
   "metadata": {},
   "outputs": [],
   "source": [
    "# Set significance level:\n",
    "alpha=0.05"
   ]
  },
  {
   "cell_type": "code",
   "execution_count": 51,
   "id": "976cca87",
   "metadata": {},
   "outputs": [
    {
     "name": "stdout",
     "output_type": "stream",
     "text": [
      "std_ratio = 0.9880741147409441\n",
      "Can assume equal population standard deviations.\n"
     ]
    }
   ],
   "source": [
    "std_ratio = std1/std3\n",
    "\n",
    "print(\"std_ratio =\", std_ratio)\n",
    "\n",
    "if std_ratio > 0.5 and std_ratio < 2:\n",
    "    print(\"Can assume equal population standard deviations.\")\n",
    "    equal_stds = True\n",
    "else:\n",
    "    print(\"Cannot assume equal population standard deviations.\")\n",
    "    equal_stds = False"
   ]
  },
  {
   "cell_type": "code",
   "execution_count": 52,
   "id": "c7a41763",
   "metadata": {},
   "outputs": [
    {
     "name": "stdout",
     "output_type": "stream",
     "text": [
      "p-value = 0.027888314301507563\n"
     ]
    }
   ],
   "source": [
    "test_stat, p_value = sps.ttest_ind(data1, data3, equal_var = equal_stds)\n",
    "print(\"p-value =\", p_value)"
   ]
  },
  {
   "cell_type": "code",
   "execution_count": 53,
   "id": "d1c1ad03",
   "metadata": {},
   "outputs": [
    {
     "name": "stdout",
     "output_type": "stream",
     "text": [
      "p-value < significance threshold.\n",
      "Reject H0. Accept H1.\n"
     ]
    }
   ],
   "source": [
    "# Reach a conclusion:\n",
    "\n",
    "if p_value < alpha:\n",
    "    print(\"p-value < significance threshold.\")\n",
    "    print(\"Reject H0. Accept H1.\")\n",
    "   \n",
    "elif p_value >= alpha:\n",
    "    print(\"p-value >= significance threshold.\")\n",
    "    print(\"No significant evidence to reject H0.\")\n",
    "    "
   ]
  },
  {
   "cell_type": "code",
   "execution_count": null,
   "id": "199c5c08",
   "metadata": {},
   "outputs": [],
   "source": [
    "#relationship between males and females 2008"
   ]
  },
  {
   "cell_type": "code",
   "execution_count": 153,
   "id": "1a8aa31c",
   "metadata": {},
   "outputs": [],
   "source": [
    "filename = 'D:/CASA0007/cw1/coursework_1_data_2019.csv'"
   ]
  },
  {
   "cell_type": "code",
   "execution_count": 154,
   "id": "711af95f",
   "metadata": {},
   "outputs": [],
   "source": [
    "output_filename = 'data_2008.png'"
   ]
  },
  {
   "cell_type": "code",
   "execution_count": 155,
   "id": "0d0521f0",
   "metadata": {},
   "outputs": [],
   "source": [
    "figure_width, figure_height = 7,7"
   ]
  },
  {
   "cell_type": "code",
   "execution_count": 156,
   "id": "d5ac1f79",
   "metadata": {},
   "outputs": [],
   "source": [
    "import matplotlib.pyplot as plt\n",
    "import statsmodels.api as sms\n",
    "import numpy as np"
   ]
  },
  {
   "cell_type": "code",
   "execution_count": 157,
   "id": "2727cb6d",
   "metadata": {},
   "outputs": [],
   "source": [
    "data = np.genfromtxt(data_filename,delimiter = ',')"
   ]
  },
  {
   "cell_type": "code",
   "execution_count": 158,
   "id": "d2c34c96",
   "metadata": {},
   "outputs": [],
   "source": [
    "x_values = data[1:,29]\n",
    "y_values = data[1:,32]"
   ]
  },
  {
   "cell_type": "code",
   "execution_count": 159,
   "id": "3c5e6668",
   "metadata": {},
   "outputs": [
    {
     "name": "stdout",
     "output_type": "stream",
     "text": [
      "[0.00222911 0.00125399 0.00134077 0.00180406 0.00181749 0.00191356\n",
      " 0.00167571 0.00383969 0.00271623 0.00171468 0.00472423 0.00131511\n",
      " 0.00324143 0.00259346 0.00186981 0.00293211 0.00116162 0.00166804\n",
      " 0.00210126 0.00188281 0.00212408 0.00125    0.00157861 0.00239067\n",
      " 0.00224059 0.00088449 0.00358214 0.00372783 0.00131796 0.00163444\n",
      " 0.00137127 0.00223888 0.00311876 0.0013518  0.00192797 0.00221186\n",
      " 0.0025112  0.00135546 0.00275741 0.00206545 0.00224239 0.00171582\n",
      " 0.00153898 0.00118812 0.00169246 0.00136479 0.00262244 0.00259968\n",
      " 0.00276689 0.00168647 0.00172134 0.00268044 0.00222946 0.00212573\n",
      " 0.0013333  0.00244201 0.00163264 0.00179611 0.00234953 0.00184332\n",
      " 0.00195532 0.00150207 0.00201243 0.00128259 0.00129663 0.00214649\n",
      " 0.00269265 0.00197715 0.00271603 0.00163725 0.00208044 0.00239792\n",
      " 0.001203   0.00203466 0.00247749 0.00175382 0.00271194 0.00277273\n",
      " 0.00150359 0.0014479  0.0027393  0.00127757 0.00160507 0.00198629\n",
      " 0.00193386 0.0011356  0.0021573  0.00230937 0.00267394 0.00320447\n",
      " 0.00223213 0.0048954  0.00463998 0.00270856 0.00099012 0.00160534\n",
      " 0.00218701 0.00248835 0.00200972 0.00082029 0.00157904 0.00126441\n",
      " 0.0010838  0.00241831 0.00225634 0.00147835 0.00493332 0.00192301\n",
      " 0.00199178 0.00141026 0.00267527 0.00463618 0.00139223 0.00187153\n",
      " 0.00256892 0.00111454 0.00435025 0.00109558 0.00216796 0.00257444\n",
      " 0.00336082 0.00415918 0.0019474  0.00291403 0.00240958 0.00154879\n",
      " 0.00105713 0.00123339 0.00205571 0.00221779 0.00308099 0.00139139\n",
      " 0.00259059 0.00172877 0.00263005 0.00313234 0.00294391 0.00154174\n",
      " 0.00161009 0.00210483 0.0033697  0.00079749 0.00214583 0.00172938\n",
      " 0.00557173 0.00208081 0.00271041 0.00629501 0.00063887 0.00357696\n",
      " 0.00360868 0.00467586]\n",
      "[0.00457238 0.0019081  0.00182176 0.00326423 0.00210319 0.0026453\n",
      " 0.0045025  0.00793306 0.00548722 0.00208487 0.00567641 0.00189685\n",
      " 0.0063234  0.00461939 0.00274886 0.00603136 0.00275984 0.00251293\n",
      " 0.00305679 0.00460268 0.00298608 0.0017178  0.00241608 0.00472902\n",
      " 0.00493731 0.0019214  0.00759559 0.00624579 0.00264977 0.00329539\n",
      " 0.00150385 0.00594636 0.00647215 0.00242672 0.00534409 0.00325151\n",
      " 0.00754987 0.00192897 0.00455298 0.0036863  0.00367796 0.00280375\n",
      " 0.00238687 0.00315646 0.00208594 0.00297544 0.00585891 0.00414802\n",
      " 0.00331956 0.00284584 0.0027764  0.00388188 0.00407962 0.00348458\n",
      " 0.00312146 0.00386393 0.00294966 0.00238005 0.00269653 0.00269058\n",
      " 0.00338839 0.00194575 0.00273197 0.00303352 0.00193492 0.00520516\n",
      " 0.00413906 0.00394446 0.00443049 0.00280148 0.00430106 0.00424144\n",
      " 0.00264223 0.00369003 0.0036678  0.00335687 0.00471998 0.00484061\n",
      " 0.00174417 0.00178837 0.00437938 0.00216754 0.00302122 0.00379541\n",
      " 0.00301731 0.00200352 0.00520824 0.00391513 0.00436871 0.00567506\n",
      " 0.00419671 0.00915459 0.00828033 0.00346486 0.00205517 0.00324615\n",
      " 0.00327074 0.00421778 0.0037944  0.00117312 0.00274645 0.00172993\n",
      " 0.00121718 0.00372529 0.00478462 0.00308912 0.00810616 0.0039764\n",
      " 0.00322776 0.00305101 0.00473439 0.00751788 0.00446813 0.00428498\n",
      " 0.0061597  0.00206474 0.00698785 0.00245522 0.00423706 0.00376107\n",
      " 0.00625424 0.00599004 0.00325999 0.00670365 0.00435218 0.00308286\n",
      " 0.00204199 0.00187028 0.00413761 0.00292907 0.00627874 0.00180542\n",
      " 0.00639986 0.00320657 0.00416383 0.00738922 0.00620526 0.00247453\n",
      " 0.00202156 0.00244609 0.00604448 0.00123624 0.00374593 0.00240224\n",
      " 0.00751778 0.00390623 0.003656   0.01013767 0.00083596 0.00831146\n",
      " 0.00603911 0.0071995 ]\n"
     ]
    }
   ],
   "source": [
    "print(x_values)\n",
    "print(y_values)"
   ]
  },
  {
   "cell_type": "code",
   "execution_count": 160,
   "id": "478222aa",
   "metadata": {},
   "outputs": [
    {
     "name": "stdout",
     "output_type": "stream",
     "text": [
      "                            OLS Regression Results                            \n",
      "==============================================================================\n",
      "Dep. Variable:                      y   R-squared:                       0.782\n",
      "Model:                            OLS   Adj. R-squared:                  0.781\n",
      "Method:                 Least Squares   F-statistic:                     539.4\n",
      "Date:                Tue, 09 Nov 2021   Prob (F-statistic):           1.55e-51\n",
      "Time:                        18:37:58   Log-Likelihood:                 859.43\n",
      "No. Observations:                 152   AIC:                            -1715.\n",
      "Df Residuals:                     150   BIC:                            -1709.\n",
      "Df Model:                           1                                         \n",
      "Covariance Type:            nonrobust                                         \n",
      "==============================================================================\n",
      "                 coef    std err          t      P>|t|      [0.025      0.975]\n",
      "------------------------------------------------------------------------------\n",
      "const          0.0003      0.000      1.484      0.140   -8.51e-05       0.001\n",
      "x1             1.6552      0.071     23.224      0.000       1.514       1.796\n",
      "==============================================================================\n",
      "Omnibus:                       14.504   Durbin-Watson:                   1.997\n",
      "Prob(Omnibus):                  0.001   Jarque-Bera (JB):               16.896\n",
      "Skew:                           0.644   Prob(JB):                     0.000214\n",
      "Kurtosis:                       4.006   Cond. No.                     1.03e+03\n",
      "==============================================================================\n",
      "\n",
      "Notes:\n",
      "[1] Standard Errors assume that the covariance matrix of the errors is correctly specified.\n",
      "[2] The condition number is large, 1.03e+03. This might indicate that there are\n",
      "strong multicollinearity or other numerical problems.\n",
      "\n"
     ]
    }
   ],
   "source": [
    "# These lines perform the regression procedure:\n",
    "X_values = sms.add_constant(x_values)\n",
    "regression_model_a = sms.OLS(y_values, X_values)\n",
    "regression_model_b = regression_model_a.fit()\n",
    "# and print a summary of the results:\n",
    "print(regression_model_b.summary())\n",
    "print() # blank line"
   ]
  },
  {
   "cell_type": "code",
   "execution_count": 161,
   "id": "16ae99d5",
   "metadata": {},
   "outputs": [],
   "source": [
    "# Now we store all the relevant values:\n",
    "gradient  = regression_model_b.params[1]\n",
    "intercept = regression_model_b.params[0]\n",
    "Rsquared  = regression_model_b.rsquared\n",
    "MSE       = regression_model_b.mse_resid\n",
    "pvalue    = regression_model_b.f_pvalue"
   ]
  },
  {
   "cell_type": "code",
   "execution_count": 162,
   "id": "dcf39971",
   "metadata": {},
   "outputs": [
    {
     "name": "stdout",
     "output_type": "stream",
     "text": [
      "gradient  = 1.6552466156608212\n",
      "intercept = 0.000256464389342009\n",
      "Rsquared  = 0.7824060993516244\n",
      "MSE       = 7.280346894837992e-07\n",
      "pvalue    = 1.54584964088066e-51\n"
     ]
    }
   ],
   "source": [
    "# And print them:\n",
    "print(\"gradient  =\", regression_model_b.params[1])\n",
    "print(\"intercept =\", regression_model_b.params[0])\n",
    "print(\"Rsquared  =\", regression_model_b.rsquared)\n",
    "print(\"MSE       =\", regression_model_b.mse_resid)\n",
    "print(\"pvalue    =\", regression_model_b.f_pvalue)"
   ]
  },
  {
   "cell_type": "code",
   "execution_count": 163,
   "id": "96c1c55f",
   "metadata": {},
   "outputs": [],
   "source": [
    "# This line creates the endpoints of the best-fit line:\n",
    "x_lobf = [min(x_values),max(x_values)]\n",
    "y_lobf = [x_lobf[0]*gradient + intercept,x_lobf[1]*gradient + intercept]"
   ]
  },
  {
   "cell_type": "code",
   "execution_count": 164,
   "id": "c3eec440",
   "metadata": {},
   "outputs": [
    {
     "data": {
      "text/plain": [
       "<Figure size 504x504 with 0 Axes>"
      ]
     },
     "execution_count": 164,
     "metadata": {},
     "output_type": "execute_result"
    },
    {
     "data": {
      "text/plain": [
       "<Figure size 504x504 with 0 Axes>"
      ]
     },
     "metadata": {},
     "output_type": "display_data"
    }
   ],
   "source": [
    "# This line creates the figure. \n",
    "plt.figure(figsize=(figure_width,figure_height))"
   ]
  },
  {
   "cell_type": "code",
   "execution_count": 165,
   "id": "abf5f943",
   "metadata": {},
   "outputs": [
    {
     "data": {
      "image/png": "[encoded data removed]",
      "text/plain": [
       "<Figure size 432x288 with 1 Axes>"
      ]
     },
     "metadata": {
      "needs_background": "light"
     },
     "output_type": "display_data"
    }
   ],
   "source": [
    "# The next lines create and save the plot:\n",
    "plt.plot(x_values,y_values,'b.',x_lobf,y_lobf,'r--')\n",
    "plt.savefig(output_filename)"
   ]
  },
  {
   "cell_type": "code",
   "execution_count": null,
   "id": "4cb60eb1",
   "metadata": {},
   "outputs": [],
   "source": [
    "#relationship between male and female 2013"
   ]
  },
  {
   "cell_type": "code",
   "execution_count": 166,
   "id": "0d01e5e1",
   "metadata": {},
   "outputs": [],
   "source": [
    "output_filename = 'data_2013.png'"
   ]
  },
  {
   "cell_type": "code",
   "execution_count": 167,
   "id": "d518b8c4",
   "metadata": {},
   "outputs": [],
   "source": [
    "figure_width, figure_height = 7,7"
   ]
  },
  {
   "cell_type": "code",
   "execution_count": 168,
   "id": "1d1fbeae",
   "metadata": {},
   "outputs": [],
   "source": [
    "data = np.genfromtxt(data_filename,delimiter = ',')"
   ]
  },
  {
   "cell_type": "code",
   "execution_count": 169,
   "id": "030fed22",
   "metadata": {},
   "outputs": [],
   "source": [
    "x_values = data[1:,30]\n",
    "y_values = data[1:,33]"
   ]
  },
  {
   "cell_type": "code",
   "execution_count": 170,
   "id": "63764b45",
   "metadata": {},
   "outputs": [
    {
     "name": "stdout",
     "output_type": "stream",
     "text": [
      "[0.00231948 0.0012629  0.00158587 0.00153431 0.0017044  0.00188309\n",
      " 0.00170936 0.00394263 0.00255671 0.00172513 0.00442425 0.00138948\n",
      " 0.00324673 0.0028541  0.00181197 0.00279492 0.00107159 0.00163025\n",
      " 0.00221258 0.00184041 0.0020366  0.00133778 0.0016216  0.00268641\n",
      " 0.00228831 0.00063452 0.00380671 0.00402202 0.00141825 0.00167152\n",
      " 0.00137056 0.00230124 0.00318132 0.00137512 0.00216165 0.00230402\n",
      " 0.00261016 0.00141575 0.00311415 0.00231516 0.00228977 0.00188542\n",
      " 0.00156273 0.00143543 0.00176725 0.00157222 0.00292559 0.00257672\n",
      " 0.00273902 0.00166571 0.00200344 0.00271115 0.00256219 0.00226507\n",
      " 0.00134034 0.00226121 0.00202441 0.00188487 0.00257349 0.\n",
      " 0.00226295 0.00151668 0.00207912 0.00119569 0.0012677  0.00223161\n",
      " 0.00292398 0.00205773 0.00275792 0.00173864 0.00206573 0.00250491\n",
      " 0.00121471 0.00200865 0.00280888 0.00195539 0.00289485 0.00277969\n",
      " 0.00188501 0.00153725 0.00277297 0.00135614 0.00193383 0.00216681\n",
      " 0.00171123 0.00134625 0.00241229 0.00260004 0.00274381 0.0031638\n",
      " 0.0026164  0.00471396 0.00466438 0.00301793 0.00101743 0.00122705\n",
      " 0.00234289 0.00278537 0.00200037 0.00084041 0.00164244 0.00127688\n",
      " 0.00140901 0.00257478 0.00261545 0.00113261 0.00494731 0.0018737\n",
      " 0.00216357 0.00157059 0.00270332 0.00445988 0.00131733 0.0019987\n",
      " 0.00252867 0.00108015 0.00418399 0.00094723 0.00228102 0.00255912\n",
      " 0.0033514  0.00421359 0.00212319 0.00277909 0.00250533 0.00183992\n",
      " 0.00107075 0.00162645 0.00204938 0.00262984 0.00313    0.00149294\n",
      " 0.00248527 0.00171336 0.00278643 0.00312209 0.00310285 0.00166183\n",
      " 0.00173776 0.00217588 0.00349599 0.00075029 0.00215005 0.00184938\n",
      " 0.00559099 0.00208996 0.00271295 0.00682491 0.00082346 0.00371037\n",
      " 0.00368991 0.00489911]\n",
      "[0.00441744 0.00213665 0.00209116 0.00328466 0.00228262 0.00301191\n",
      " 0.00464998 0.00825201 0.00547688 0.00244523 0.00570312 0.00215046\n",
      " 0.00660622 0.00494328 0.00274649 0.00602812 0.00333508 0.00255125\n",
      " 0.00280131 0.00459691 0.00287496 0.00177664 0.00272174 0.00486331\n",
      " 0.00513931 0.00215264 0.00786022 0.00676786 0.00291958 0.00348276\n",
      " 0.00169016 0.0057966  0.00660529 0.00240695 0.00579354 0.00342412\n",
      " 0.00789659 0.00209286 0.0047484  0.00379086 0.00383861 0.00301226\n",
      " 0.00235542 0.00324061 0.0021406  0.00330049 0.00592097 0.0044194\n",
      " 0.00349953 0.00288676 0.00315845 0.00429706 0.00399125 0.00347429\n",
      " 0.00309766 0.00415488 0.003311   0.002623   0.00271465 0.00092593\n",
      " 0.0034018  0.00218004 0.00275886 0.00328619 0.00198048 0.00563152\n",
      " 0.00466131 0.00403934 0.00458866 0.00306326 0.00433314 0.0044339\n",
      " 0.0026902  0.00364093 0.0039424  0.00343972 0.00487716 0.00480336\n",
      " 0.00162001 0.00183163 0.00421213 0.00220941 0.00346399 0.00389727\n",
      " 0.00312964 0.00211501 0.00523318 0.00411515 0.00446477 0.00576644\n",
      " 0.00401178 0.00939876 0.00838229 0.00368142 0.00209053 0.00328674\n",
      " 0.00354521 0.00425085 0.00391229 0.00117206 0.00272273 0.00212045\n",
      " 0.00152964 0.00391088 0.00495752 0.00403782 0.00808145 0.00417742\n",
      " 0.0032516  0.0032995  0.00482736 0.00810827 0.00524527 0.00454845\n",
      " 0.0063375  0.0021195  0.00684752 0.00264888 0.00451161 0.00352249\n",
      " 0.00638129 0.00613385 0.00343963 0.00658733 0.00425386 0.00335063\n",
      " 0.00206179 0.00221784 0.00431278 0.00284763 0.00665328 0.00197492\n",
      " 0.00666904 0.00342456 0.00447889 0.00784079 0.0059329  0.00283818\n",
      " 0.00205717 0.00243314 0.00636418 0.00149731 0.00371211 0.00269499\n",
      " 0.00753346 0.00389856 0.00395848 0.01010222 0.00094085 0.00840367\n",
      " 0.00629628 0.00741158]\n"
     ]
    }
   ],
   "source": [
    "print(x_values)\n",
    "print(y_values)"
   ]
  },
  {
   "cell_type": "code",
   "execution_count": 171,
   "id": "b95995da",
   "metadata": {},
   "outputs": [
    {
     "name": "stdout",
     "output_type": "stream",
     "text": [
      "                            OLS Regression Results                            \n",
      "==============================================================================\n",
      "Dep. Variable:                      y   R-squared:                       0.740\n",
      "Model:                            OLS   Adj. R-squared:                  0.738\n",
      "Method:                 Least Squares   F-statistic:                     427.2\n",
      "Date:                Tue, 09 Nov 2021   Prob (F-statistic):           9.63e-46\n",
      "Time:                        18:38:59   Log-Likelihood:                 843.85\n",
      "No. Observations:                 152   AIC:                            -1684.\n",
      "Df Residuals:                     150   BIC:                            -1678.\n",
      "Df Model:                           1                                         \n",
      "Covariance Type:            nonrobust                                         \n",
      "==============================================================================\n",
      "                 coef    std err          t      P>|t|      [0.025      0.975]\n",
      "------------------------------------------------------------------------------\n",
      "const          0.0005      0.000      2.391      0.018    7.93e-05       0.001\n",
      "x1             1.5821      0.077     20.669      0.000       1.431       1.733\n",
      "==============================================================================\n",
      "Omnibus:                       15.857   Durbin-Watson:                   1.996\n",
      "Prob(Omnibus):                  0.000   Jarque-Bera (JB):               17.604\n",
      "Skew:                           0.752   Prob(JB):                     0.000150\n",
      "Kurtosis:                       3.721   Cond. No.                         998.\n",
      "==============================================================================\n",
      "\n",
      "Notes:\n",
      "[1] Standard Errors assume that the covariance matrix of the errors is correctly specified.\n",
      "\n"
     ]
    }
   ],
   "source": [
    "# These lines perform the regression procedure:\n",
    "X_values = sms.add_constant(x_values)\n",
    "regression_model_a = sms.OLS(y_values, X_values)\n",
    "regression_model_b = regression_model_a.fit()\n",
    "# and print a summary of the results:\n",
    "print(regression_model_b.summary())\n",
    "print() # blank line"
   ]
  },
  {
   "cell_type": "code",
   "execution_count": 172,
   "id": "03b24086",
   "metadata": {},
   "outputs": [],
   "source": [
    "# Now we store all the relevant values:\n",
    "gradient  = regression_model_b.params[1]\n",
    "intercept = regression_model_b.params[0]\n",
    "Rsquared  = regression_model_b.rsquared\n",
    "MSE       = regression_model_b.mse_resid\n",
    "pvalue    = regression_model_b.f_pvalue"
   ]
  },
  {
   "cell_type": "code",
   "execution_count": 173,
   "id": "91a5f643",
   "metadata": {},
   "outputs": [
    {
     "name": "stdout",
     "output_type": "stream",
     "text": [
      "gradient  = 1.582140182899098\n",
      "intercept = 0.000457087959729091\n",
      "Rsquared  = 0.7401340659151685\n",
      "MSE       = 8.936370839660805e-07\n",
      "pvalue    = 9.63206115896597e-46\n"
     ]
    }
   ],
   "source": [
    "# And print them:\n",
    "print(\"gradient  =\", regression_model_b.params[1])\n",
    "print(\"intercept =\", regression_model_b.params[0])\n",
    "print(\"Rsquared  =\", regression_model_b.rsquared)\n",
    "print(\"MSE       =\", regression_model_b.mse_resid)\n",
    "print(\"pvalue    =\", regression_model_b.f_pvalue)"
   ]
  },
  {
   "cell_type": "code",
   "execution_count": 174,
   "id": "9133730a",
   "metadata": {},
   "outputs": [],
   "source": [
    "# This line creates the endpoints of the best-fit line:\n",
    "x_lobf = [min(x_values),max(x_values)]\n",
    "y_lobf = [x_lobf[0]*gradient + intercept,x_lobf[1]*gradient + intercept]"
   ]
  },
  {
   "cell_type": "code",
   "execution_count": 175,
   "id": "46653356",
   "metadata": {},
   "outputs": [
    {
     "data": {
      "text/plain": [
       "<Figure size 504x504 with 0 Axes>"
      ]
     },
     "execution_count": 175,
     "metadata": {},
     "output_type": "execute_result"
    },
    {
     "data": {
      "text/plain": [
       "<Figure size 504x504 with 0 Axes>"
      ]
     },
     "metadata": {},
     "output_type": "display_data"
    }
   ],
   "source": [
    "# This line creates the figure. \n",
    "plt.figure(figsize=(figure_width,figure_height))"
   ]
  },
  {
   "cell_type": "code",
   "execution_count": 176,
   "id": "2a6b5d51",
   "metadata": {},
   "outputs": [
    {
     "data": {
      "image/png": "[encoded data removed]",
      "text/plain": [
       "<Figure size 432x288 with 1 Axes>"
      ]
     },
     "metadata": {
      "needs_background": "light"
     },
     "output_type": "display_data"
    }
   ],
   "source": [
    "# The next lines create and save the plot:\n",
    "plt.plot(x_values,y_values,'b.',x_lobf,y_lobf,'r--')\n",
    "plt.savefig(output_filename)"
   ]
  },
  {
   "cell_type": "code",
   "execution_count": null,
   "id": "e9c71ab0",
   "metadata": {},
   "outputs": [],
   "source": [
    "#relationship between male and female in 2018"
   ]
  },
  {
   "cell_type": "code",
   "execution_count": 177,
   "id": "9f66ee90",
   "metadata": {},
   "outputs": [],
   "source": [
    "output_filename = 'data_2018.png'"
   ]
  },
  {
   "cell_type": "code",
   "execution_count": 178,
   "id": "2dd9b89e",
   "metadata": {},
   "outputs": [],
   "source": [
    "figure_width, figure_height = 7,7"
   ]
  },
  {
   "cell_type": "code",
   "execution_count": 179,
   "id": "27781c1a",
   "metadata": {},
   "outputs": [],
   "source": [
    "data = np.genfromtxt(data_filename,delimiter = ',')"
   ]
  },
  {
   "cell_type": "code",
   "execution_count": 180,
   "id": "a0970807",
   "metadata": {},
   "outputs": [],
   "source": [
    "x_values = data[1:,31]\n",
    "y_values = data[1:,34]"
   ]
  },
  {
   "cell_type": "code",
   "execution_count": 181,
   "id": "af7cd431",
   "metadata": {},
   "outputs": [
    {
     "name": "stdout",
     "output_type": "stream",
     "text": [
      "[0.00294936 0.00180504 0.00166857 0.00171636 0.00188841 0.00236952\n",
      " 0.00185483 0.00425364 0.00265482 0.00207433 0.00464022 0.00178407\n",
      " 0.00351786 0.00309493 0.00173124 0.00321317 0.00168128 0.00177475\n",
      " 0.0026127  0.00207171 0.0020866  0.00141426 0.0018133  0.00293661\n",
      " 0.00269292 0.00068244 0.00383242 0.00377988 0.00189139 0.00180677\n",
      " 0.0014803  0.00233411 0.00315695 0.00147269 0.00221792 0.00227288\n",
      " 0.00278039 0.00169306 0.00327057 0.00218724 0.00232892 0.00222716\n",
      " 0.00164941 0.00183808 0.00194399 0.00170479 0.00318502 0.00282543\n",
      " 0.00284365 0.0017435  0.00219823 0.00341747 0.00250134 0.00255189\n",
      " 0.00163116 0.00243238 0.00201456 0.00240387 0.00291535 0.00070126\n",
      " 0.00253706 0.00220792 0.00204967 0.00127665 0.0019379  0.00247015\n",
      " 0.00320038 0.0023283  0.00305851 0.00191496 0.00218633 0.00250246\n",
      " 0.00160277 0.00212642 0.00304922 0.00192325 0.00292088 0.002835\n",
      " 0.0023404  0.00174512 0.00250418 0.00153342 0.00185462 0.00222617\n",
      " 0.00208486 0.00122877 0.00229621 0.0026464  0.00300507 0.00333391\n",
      " 0.0026909  0.00465409 0.00463893 0.00330846 0.00119597 0.00150547\n",
      " 0.00247366 0.00267188 0.00233265 0.00074251 0.00210638 0.0014239\n",
      " 0.00173366 0.00323991 0.00249738 0.00112088 0.00503581 0.00194598\n",
      " 0.00254647 0.0016845  0.0028763  0.00470719 0.00153556 0.00192801\n",
      " 0.00241947 0.00135863 0.00421483 0.00109748 0.00280687 0.00284406\n",
      " 0.00353952 0.00456142 0.00214952 0.00292395 0.002517   0.00196765\n",
      " 0.00104275 0.00168535 0.00214954 0.00276655 0.00324441 0.00159901\n",
      " 0.00266372 0.00223563 0.00309817 0.00339676 0.00311203 0.00199447\n",
      " 0.0018905  0.00263899 0.00348518 0.00074944 0.00215981 0.00242142\n",
      " 0.00585618 0.00197165 0.0026357  0.00658637 0.00083254 0.00398597\n",
      " 0.00377582 0.0053174 ]\n",
      "[0.00513507 0.00247701 0.00240774 0.00343342 0.00240171 0.00330038\n",
      " 0.00495127 0.00909128 0.00579242 0.00271839 0.00579193 0.00249128\n",
      " 0.00678826 0.00498249 0.00287716 0.0060491  0.00370513 0.00295175\n",
      " 0.00335414 0.00507577 0.00303786 0.00205806 0.00263778 0.00529487\n",
      " 0.0057028  0.00242522 0.00820626 0.00684195 0.00332348 0.00373115\n",
      " 0.00157415 0.00625197 0.00691196 0.00268565 0.00584389 0.00381673\n",
      " 0.00834978 0.00239693 0.00541616 0.00408883 0.00408394 0.00351141\n",
      " 0.00250776 0.0038307  0.00235128 0.0036146  0.00672718 0.0043873\n",
      " 0.00373191 0.00309111 0.00348291 0.00457523 0.00429358 0.00390171\n",
      " 0.00336292 0.00405407 0.00339337 0.00270975 0.00306533 0.00295858\n",
      " 0.00406593 0.00283459 0.00293324 0.0035328  0.00274503 0.00572218\n",
      " 0.00457931 0.00463119 0.0048549  0.00333252 0.00460204 0.0046684\n",
      " 0.00327384 0.00384208 0.00439265 0.00346756 0.00496861 0.0050615\n",
      " 0.0022774  0.0019816  0.00426188 0.00250568 0.00399407 0.00408585\n",
      " 0.00329933 0.00249264 0.00546291 0.00434648 0.00474535 0.00590336\n",
      " 0.00465628 0.00904798 0.00852982 0.00415832 0.00247374 0.00351308\n",
      " 0.00325711 0.00447134 0.00388675 0.00144104 0.00340731 0.0019889\n",
      " 0.00206296 0.00436418 0.0049029  0.00303705 0.00853022 0.0044059\n",
      " 0.00357335 0.00358203 0.00514399 0.00804709 0.00451749 0.00478884\n",
      " 0.00661092 0.00249167 0.00703854 0.00273555 0.00487071 0.00385937\n",
      " 0.00662176 0.00652347 0.00370363 0.00666199 0.00444356 0.00337364\n",
      " 0.00207764 0.00258568 0.00432198 0.00362781 0.00629528 0.0018627\n",
      " 0.00648301 0.00413152 0.00441573 0.00804946 0.00673585 0.00303021\n",
      " 0.00262969 0.00262332 0.00628862 0.00145863 0.00392825 0.00305869\n",
      " 0.00831318 0.00385551 0.00422252 0.01078216 0.00118316 0.00879065\n",
      " 0.00639387 0.00781393]\n"
     ]
    }
   ],
   "source": [
    "print(x_values)\n",
    "print(y_values)"
   ]
  },
  {
   "cell_type": "code",
   "execution_count": 182,
   "id": "76e6f784",
   "metadata": {},
   "outputs": [
    {
     "name": "stdout",
     "output_type": "stream",
     "text": [
      "                            OLS Regression Results                            \n",
      "==============================================================================\n",
      "Dep. Variable:                      y   R-squared:                       0.722\n",
      "Model:                            OLS   Adj. R-squared:                  0.721\n",
      "Method:                 Least Squares   F-statistic:                     390.5\n",
      "Date:                Tue, 09 Nov 2021   Prob (F-statistic):           1.36e-43\n",
      "Time:                        18:42:26   Log-Likelihood:                 839.59\n",
      "No. Observations:                 152   AIC:                            -1675.\n",
      "Df Residuals:                     150   BIC:                            -1669.\n",
      "Df Model:                           1                                         \n",
      "Covariance Type:            nonrobust                                         \n",
      "==============================================================================\n",
      "                 coef    std err          t      P>|t|      [0.025      0.975]\n",
      "------------------------------------------------------------------------------\n",
      "const          0.0004      0.000      2.043      0.043    1.42e-05       0.001\n",
      "x1             1.5833      0.080     19.760      0.000       1.425       1.742\n",
      "==============================================================================\n",
      "Omnibus:                        9.936   Durbin-Watson:                   1.927\n",
      "Prob(Omnibus):                  0.007   Jarque-Bera (JB):                9.962\n",
      "Skew:                           0.575   Prob(JB):                      0.00687\n",
      "Kurtosis:                       3.501   Cond. No.                     1.02e+03\n",
      "==============================================================================\n",
      "\n",
      "Notes:\n",
      "[1] Standard Errors assume that the covariance matrix of the errors is correctly specified.\n",
      "[2] The condition number is large, 1.02e+03. This might indicate that there are\n",
      "strong multicollinearity or other numerical problems.\n",
      "\n"
     ]
    }
   ],
   "source": [
    "# These lines perform the regression procedure:\n",
    "X_values = sms.add_constant(x_values)\n",
    "regression_model_a = sms.OLS(y_values, X_values)\n",
    "regression_model_b = regression_model_a.fit()\n",
    "# and print a summary of the results:\n",
    "print(regression_model_b.summary())\n",
    "print() # blank line"
   ]
  },
  {
   "cell_type": "code",
   "execution_count": 186,
   "id": "a3d384a0",
   "metadata": {},
   "outputs": [],
   "source": [
    "# Now we store all the relevant values:\n",
    "gradient  = regression_model_b.params[1]\n",
    "intercept = regression_model_b.params[0]\n",
    "Rsquared  = regression_model_b.rsquared\n",
    "MSE       = regression_model_b.mse_resid\n",
    "pvalue    = regression_model_b.f_pvalue"
   ]
  },
  {
   "cell_type": "code",
   "execution_count": 187,
   "id": "58b119c3",
   "metadata": {},
   "outputs": [
    {
     "name": "stdout",
     "output_type": "stream",
     "text": [
      "gradient  = 1.5832554936266525\n",
      "intercept = 0.0004351380482922137\n",
      "Rsquared  = 0.7224561478472127\n",
      "MSE       = 9.452505664219551e-07\n",
      "pvalue    = 1.3568906608237974e-43\n"
     ]
    }
   ],
   "source": [
    "# And print them:\n",
    "print(\"gradient  =\", regression_model_b.params[1])\n",
    "print(\"intercept =\", regression_model_b.params[0])\n",
    "print(\"Rsquared  =\", regression_model_b.rsquared)\n",
    "print(\"MSE       =\", regression_model_b.mse_resid)\n",
    "print(\"pvalue    =\", regression_model_b.f_pvalue)"
   ]
  },
  {
   "cell_type": "code",
   "execution_count": 183,
   "id": "f8232daa",
   "metadata": {},
   "outputs": [],
   "source": [
    "# This line creates the endpoints of the best-fit line:\n",
    "x_lobf = [min(x_values),max(x_values)]\n",
    "y_lobf = [x_lobf[0]*gradient + intercept,x_lobf[1]*gradient + intercept]"
   ]
  },
  {
   "cell_type": "code",
   "execution_count": 184,
   "id": "698700df",
   "metadata": {},
   "outputs": [
    {
     "data": {
      "text/plain": [
       "<Figure size 504x504 with 0 Axes>"
      ]
     },
     "execution_count": 184,
     "metadata": {},
     "output_type": "execute_result"
    },
    {
     "data": {
      "text/plain": [
       "<Figure size 504x504 with 0 Axes>"
      ]
     },
     "metadata": {},
     "output_type": "display_data"
    }
   ],
   "source": [
    "# This line creates the figure. \n",
    "plt.figure(figsize=(figure_width,figure_height))"
   ]
  },
  {
   "cell_type": "code",
   "execution_count": 185,
   "id": "852bc6f4",
   "metadata": {},
   "outputs": [
    {
     "data": {
      "image/png": "[encoded data removed]",
      "text/plain": [
       "<Figure size 432x288 with 1 Axes>"
      ]
     },
     "metadata": {
      "needs_background": "light"
     },
     "output_type": "display_data"
    }
   ],
   "source": [
    "# The next lines create and save the plot:\n",
    "plt.plot(x_values,y_values,'b.',x_lobf,y_lobf,'r--')\n",
    "plt.savefig(output_filename)"
   ]
  },
  {
   "cell_type": "code",
   "execution_count": null,
   "id": "7d5327be",
   "metadata": {},
   "outputs": [],
   "source": []
  }
 ],
 "metadata": {
  "kernelspec": {
   "display_name": "Python 3",
   "language": "python",
   "name": "python3"
  },
  "language_info": {
   "codemirror_mode": {
    "name": "ipython",
    "version": 3
   },
   "file_extension": ".py",
   "mimetype": "text/x-python",
   "name": "python",
   "nbconvert_exporter": "python",
   "pygments_lexer": "ipython3",
   "version": "3.8.8"
  }
 },
 "nbformat": 4,
 "nbformat_minor": 5
}
